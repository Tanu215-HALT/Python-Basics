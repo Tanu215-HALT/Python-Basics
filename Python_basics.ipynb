{
  "nbformat": 4,
  "nbformat_minor": 0,
  "metadata": {
    "colab": {
      "provenance": [],
      "toc_visible": true
    },
    "kernelspec": {
      "name": "python3",
      "display_name": "Python 3"
    },
    "language_info": {
      "name": "python"
    }
  },
  "cells": [
    {
      "cell_type": "markdown",
      "source": [],
      "metadata": {
        "id": "zdbTbxuIx4OJ"
      }
    },
    {
      "cell_type": "markdown",
      "source": [
        "#Python Basics"
      ],
      "metadata": {
        "id": "KZvNJOG8x9SX"
      }
    },
    {
      "cell_type": "markdown",
      "source": [
        "1.What is python and why is it popular?\n",
        "\n",
        "\n",
        "-> Python is a programming language which translates our language of skills to machines like a binary language,it is popular because it is easy to use and learn,it has extensive libraries for data science and also it has clean syntax so that it enables rapid development"
      ],
      "metadata": {
        "id": "FqYuBbSPxK7G"
      }
    },
    {
      "cell_type": "markdown",
      "source": [
        "2.What is interpreter in Python?\n",
        "\n",
        "-> Interpreter is a program that reads and executes python code line to line,so that the computer processor can understand and run the coding."
      ],
      "metadata": {
        "id": "y5nopVAyzod3"
      }
    },
    {
      "cell_type": "markdown",
      "source": [
        "3.What are pre defined key words in python?\n",
        "\n",
        "-> The reserved words in python that have special meanings and cannot be used as identifiers\n",
        "Ex:if,else,elif,while,for,def,import,True,False,None"
      ],
      "metadata": {
        "id": "J-GeRIU50_Uu"
      }
    },
    {
      "cell_type": "markdown",
      "source": [],
      "metadata": {
        "id": "Gj80yLkfzkt-"
      }
    },
    {
      "cell_type": "markdown",
      "source": [
        "4.Can keywords be used as variable names?\n",
        "\n",
        "-> NO,they can't be used as variable names, using them as variable names can cause syntax error."
      ],
      "metadata": {
        "id": "flb4QSaC14QS"
      }
    },
    {
      "cell_type": "markdown",
      "source": [],
      "metadata": {
        "id": "BVTJjxhvznaU"
      }
    },
    {
      "cell_type": "markdown",
      "source": [
        "5.What is mutability in python?\n",
        "\n",
        "-> Mtability is like an ability to state whether an object state can be changed after it created, and they can be modified in place while immutable objects cannot.\n"
      ],
      "metadata": {
        "id": "5KuITFXi2fhn"
      }
    },
    {
      "cell_type": "markdown",
      "source": [],
      "metadata": {
        "id": "nlBccDSRxIgs"
      }
    },
    {
      "cell_type": "markdown",
      "source": [
        "6.Why are lists mutable and tuples are immutable?\n",
        "\n",
        "-> Lists are mutable because they are designed flexible and data structers are strong in them, also it manipulates the collection of items.Tuples are immutable because they are fixed and unchanged in collections and they read only structures."
      ],
      "metadata": {
        "id": "db3kCpvq3LaG"
      }
    },
    {
      "cell_type": "markdown",
      "source": [
        "7.What is the difference between \"==\" and \"is\" operators in python?\n",
        "\n",
        "-> In == operator it checks equality of values between two objects and compares the values regardless of whether they are the same object in memory.\n",
        "In is operator it checks for identity whether variables refers to the same object in memory and it doesn't care about the values,only whether the objects are identical."
      ],
      "metadata": {
        "id": "y8nEjp0b4jDC"
      }
    },
    {
      "cell_type": "markdown",
      "source": [
        "8.What are logical operators in python?\n",
        "\n",
        "-> Logical operators in python are used to combine or manipulate the boolean expressions to make decision in code,they are used in conditional statements and other controls.\n",
        "Example:True False in AND,OR etcc"
      ],
      "metadata": {
        "id": "ZYPXuorU6AmG"
      }
    },
    {
      "cell_type": "markdown",
      "source": [
        "9.What are type casting in python?\n",
        "\n",
        "-> Type casting is also referred as type conversion it is the process of changing one data type to another in python,it is necessary in python to do arithematic operations,data manipulation and input/output operations in python."
      ],
      "metadata": {
        "id": "eYGq6zt568SQ"
      }
    },
    {
      "cell_type": "markdown",
      "source": [
        "10.What is the difference between implicit and exclipt type casting?\n",
        "\n",
        "-> Implicit typcasting:Python automatically converts one data type to another without exclipt instruction from the programmer.It is done by python interpreter.\n",
        "\n",
        "Exclipt typecasting:This one manually converts a value from one data type to another using built in functions like int() etc. It may lead data loss\n"
      ],
      "metadata": {
        "id": "uPdAtped7qoq"
      }
    },
    {
      "cell_type": "markdown",
      "source": [
        "11.What is the purpose of conditional statements?\n",
        "\n",
        "->The purpose of conditional statements is to execute code based on the evaluation of one or more conditions.It supports conditional statements such as if,else etcc"
      ],
      "metadata": {
        "id": "Hvjh4ZK29EkU"
      }
    },
    {
      "cell_type": "markdown",
      "source": [
        "12.How does elif statement work?\n",
        "\n",
        "-> It stands for 'else if' in python, It is used in conditional statement to check multiple conditions and helps you to automatically execute different code based on a particular condition."
      ],
      "metadata": {
        "id": "57t1nOn69tPz"
      }
    },
    {
      "cell_type": "markdown",
      "source": [],
      "metadata": {
        "id": "SsT3wFsZ-k8Z"
      }
    },
    {
      "cell_type": "markdown",
      "source": [
        "13.What is the difference between for and while loops/\n",
        "\n",
        "->Both are the loops in control flow structure programming\n",
        "\n",
        "for loops:They are typically used when you know the exact number of times you need to repeat a block of code, its is used to iterating over a known range of numbers\n",
        "\n",
        "while loops:They continue executing a block of code as long as a specified condition remains true.It only gets used when the number of iterations depends on dynamic condition."
      ],
      "metadata": {
        "id": "oxhwhoMi-rKf"
      }
    },
    {
      "cell_type": "markdown",
      "source": [
        "14.Describe a scenario when while loop is more suitable that for loop.\n",
        "-> When while loop is best used when you don't know the number of iterations in advance and depends on dynamic condition.\n"
      ],
      "metadata": {
        "id": "H51F0ibnAPjI"
      }
    },
    {
      "cell_type": "markdown",
      "source": [],
      "metadata": {
        "id": "Mo7gpLfiA5qy"
      }
    },
    {
      "cell_type": "markdown",
      "source": [
        "#Python Basics practical answers"
      ],
      "metadata": {
        "id": "kyWywZ7cA57C"
      }
    },
    {
      "cell_type": "markdown",
      "source": [],
      "metadata": {
        "id": "eQkQB-KsBa7s"
      }
    },
    {
      "cell_type": "code",
      "source": [
        "#1 write a python program to print \"hello world\"!\n",
        "\n",
        "print (\"hello world\")"
      ],
      "metadata": {
        "colab": {
          "base_uri": "https://localhost:8080/"
        },
        "id": "x47Ote8SBo37",
        "outputId": "0c8aed77-6217-41b2-f6e0-b1b015415236"
      },
      "execution_count": 2,
      "outputs": [
        {
          "output_type": "stream",
          "name": "stdout",
          "text": [
            "hello world\n"
          ]
        }
      ]
    },
    {
      "cell_type": "code",
      "source": [
        "#2 Write a python program that displays your name and age.\n",
        "\n",
        "Name = \"tanuja\"\n",
        "Age = 17\n",
        "print(\"My name is {tanuja} and I am {17} years old.\")"
      ],
      "metadata": {
        "colab": {
          "base_uri": "https://localhost:8080/"
        },
        "id": "V_1kxkL7hwpC",
        "outputId": "a20c0af5-ead2-4e06-b4b2-9a1b3848bcda"
      },
      "execution_count": 9,
      "outputs": [
        {
          "output_type": "stream",
          "name": "stdout",
          "text": [
            "My name is {tanuja} and I am {17} years old.\n"
          ]
        }
      ]
    },
    {
      "cell_type": "markdown",
      "source": [],
      "metadata": {
        "id": "gjox19-chsXJ"
      }
    },
    {
      "cell_type": "code",
      "source": [
        "#3 Write a code to print all the pre-defined keywords in python using the keyword library.\n",
        "import keyword\n",
        "\n",
        "# Get the list of all key words\n",
        "keywords = keyword.kwlist\n",
        "\n",
        "# Print the list of keywords\n",
        "print(\"python pre-defined keywords:\")\n",
        "for keyword in keywords:\n",
        "  print(keyword)\n"
      ],
      "metadata": {
        "colab": {
          "base_uri": "https://localhost:8080/"
        },
        "id": "dLg6wM3yhvHv",
        "outputId": "5a520cd1-0017-4aa0-e943-8aa36ef23be7"
      },
      "execution_count": 11,
      "outputs": [
        {
          "output_type": "stream",
          "name": "stdout",
          "text": [
            "python pre-defined keywords:\n",
            "False\n",
            "None\n",
            "True\n",
            "and\n",
            "as\n",
            "assert\n",
            "async\n",
            "await\n",
            "break\n",
            "class\n",
            "continue\n",
            "def\n",
            "del\n",
            "elif\n",
            "else\n",
            "except\n",
            "finally\n",
            "for\n",
            "from\n",
            "global\n",
            "if\n",
            "import\n",
            "in\n",
            "is\n",
            "lambda\n",
            "nonlocal\n",
            "not\n",
            "or\n",
            "pass\n",
            "raise\n",
            "return\n",
            "try\n",
            "while\n",
            "with\n",
            "yield\n"
          ]
        }
      ]
    },
    {
      "cell_type": "markdown",
      "source": [],
      "metadata": {
        "id": "xW5yCzQslCo8"
      }
    },
    {
      "cell_type": "code",
      "source": [
        "#4 Write a program that checks if a given word is a python keyword?\n",
        "\n",
        "import keyword\n",
        "word = input(\"Enter a word: \")\n",
        "if keyword.iskeyword(word):\n",
        "    print(f\"{word} is a python keyword.\")\n",
        "else:\n",
        "    print(f\"{word} is not a python keyword.\")\n"
      ],
      "metadata": {
        "colab": {
          "base_uri": "https://localhost:8080/"
        },
        "id": "6L-pHuRrlDNo",
        "outputId": "7036cf7f-a873-4e1c-df98-3ce5b9cb6317"
      },
      "execution_count": 13,
      "outputs": [
        {
          "output_type": "stream",
          "name": "stdout",
          "text": [
            "Enter a word: hello\n",
            "hello is not a python keyword.\n"
          ]
        }
      ]
    },
    {
      "cell_type": "code",
      "source": [
        "#5 Create a list and tuple in python and demonstrate how attempting to change an element works differently for each.\n",
        "\n",
        "#creating a list and tuple\n",
        "my_list = [1, 2, 3]\n",
        "my_tuple = (1, 2, 3)\n",
        "\n",
        "#print original list and tuple\n",
        "print (\"Original list:\",my_list)\n",
        "print (\"Original tuple:\",my_tuple)\n",
        "\n",
        "#Modifying an element in the list (allowed)\n",
        "my_list[0]=10\n",
        "print(\"modified list:\", my_list)\n",
        "\n",
        "#Attempting to modify an element in the tuple\n",
        "try:\n",
        "    my_tuple[0]=10\n",
        "\n",
        "except:\n",
        "    print(\"Error while modifying tuple:\")"
      ],
      "metadata": {
        "colab": {
          "base_uri": "https://localhost:8080/"
        },
        "id": "xpKJFa2vlvF1",
        "outputId": "4eb04f98-501e-416a-d4d5-0f44161767d2"
      },
      "execution_count": 24,
      "outputs": [
        {
          "output_type": "stream",
          "name": "stdout",
          "text": [
            "Original list: [1, 2, 3]\n",
            "Original tuple: (1, 2, 3)\n",
            "modified list: [10, 2, 3]\n",
            "Error while modifying tuple:\n"
          ]
        }
      ]
    },
    {
      "cell_type": "code",
      "source": [
        "#6 Write a function to demonstrate the behaavior of mutable and immutable arguments?\n",
        "\n",
        "def modify_arguments(num, num_list):\n",
        "    print(\"\\nInside function:\")\n",
        "    # Try modifying the immutable argument\n",
        "    num += 10\n",
        "    print(\"Modified num (immutable):\", num)\n",
        "\n",
        "    # Modify the mutable argument\n",
        "    num_list.append(100)\n",
        "    print(\"Modified num_list (mutable):\", num_list)\n",
        "\n",
        "# Define an integer (immutable) and a list (mutable)\n",
        "original_num = 50\n",
        "original_list = [1, 2, 3]\n",
        "\n",
        "print(\"Before function call:\")\n",
        "print(\"original_num:\", original_num)\n",
        "print(\"original_list:\", original_list)\n",
        "\n",
        "# Call the function\n",
        "modify_arguments(original_num, original_list)\n",
        "\n",
        "print(\"\\nAfter function call:\")\n",
        "print(\"original_num:\", original_num)       # Will remain unchanged\n",
        "print(\"original_list:\", original_list)     # Will be modified"
      ],
      "metadata": {
        "colab": {
          "base_uri": "https://localhost:8080/"
        },
        "id": "uj0E1VNloo1s",
        "outputId": "4fba25f5-7593-4287-c2b1-e54344bc131e"
      },
      "execution_count": 25,
      "outputs": [
        {
          "output_type": "stream",
          "name": "stdout",
          "text": [
            "Before function call:\n",
            "original_num: 50\n",
            "original_list: [1, 2, 3]\n",
            "\n",
            "Inside function:\n",
            "Modified num (immutable): 60\n",
            "Modified num_list (mutable): [1, 2, 3, 100]\n",
            "\n",
            "After function call:\n",
            "original_num: 50\n",
            "original_list: [1, 2, 3, 100]\n"
          ]
        }
      ]
    },
    {
      "cell_type": "code",
      "source": [
        "#7. Write a program that performs basic arithmetic operations on two user input numbers.\n",
        "\n",
        "# Get input from the user\n",
        "num1 = float(input(\"Enter the first number: \"))\n",
        "num2 = float(input(\"Enter the second number: \"))\n",
        "\n",
        "# Perform arithmetic operations\n",
        "addition = num1 + num2\n",
        "subtraction = num1 - num2\n",
        "multiplication = num1 * num2\n",
        "\n",
        "# Handle division by zero\n",
        "if num2 != 0:\n",
        "    division = num1 / num2\n",
        "else:\n",
        "    division = \"Undefined (cannot divide by zero)\"\n",
        "\n",
        "# Display the results\n",
        "print(\"\\nResults:\")\n",
        "print(\"Addition:\", addition)\n",
        "print(\"Subtraction:\", subtraction)\n",
        "print(\"Multiplication:\", multiplication)\n",
        "print(\"Division:\", division)"
      ],
      "metadata": {
        "colab": {
          "base_uri": "https://localhost:8080/"
        },
        "id": "oWRSufU-p0DO",
        "outputId": "18dcf1bd-11b4-40c4-bfa3-f72f47a06590"
      },
      "execution_count": 26,
      "outputs": [
        {
          "output_type": "stream",
          "name": "stdout",
          "text": [
            "Enter the first number: 10\n",
            "Enter the second number: 2\n",
            "\n",
            "Results:\n",
            "Addition: 12.0\n",
            "Subtraction: 8.0\n",
            "Multiplication: 20.0\n",
            "Division: 5.0\n"
          ]
        }
      ]
    },
    {
      "cell_type": "code",
      "source": [
        "#8 Write a program to demonstrate the use of logical operators.\n",
        "\n",
        "# Define some boolean values\n",
        "a = True\n",
        "b = False\n",
        "\n",
        "print(\"Demonstrating logical operators:\\n\")\n",
        "\n",
        "# Logical AND\n",
        "print(\"a and b =\", a and b)  # False\n",
        "\n",
        "# Logical OR\n",
        "print(\"a or b =\", a or b)    # True\n",
        "\n",
        "# Logical NOT\n",
        "print(\"not a =\", not a)      # False\n",
        "print(\"not b =\", not b)      # True\n",
        "\n",
        "# Example with conditions\n",
        "x = 10\n",
        "y = 5\n",
        "\n",
        "print(\"\\nUsing logical operators with conditions:\")\n",
        "\n",
        "# Both conditions must be true\n",
        "print(\"(x > 0 and y > 0):\", x > 0 and y > 0)  # True\n",
        "\n",
        "# At least one condition must be true\n",
        "print(\"(x < 0 or y > 0):\", x < 0 or y > 0)    # True\n",
        "\n",
        "# Negating a condition\n",
        "print(\"not(x == 10):\", not(x == 10))         # False"
      ],
      "metadata": {
        "colab": {
          "base_uri": "https://localhost:8080/"
        },
        "id": "qPQqc9TvqT3H",
        "outputId": "88d2c7d1-689a-4f85-843a-4853aa19f16c"
      },
      "execution_count": 27,
      "outputs": [
        {
          "output_type": "stream",
          "name": "stdout",
          "text": [
            "Demonstrating logical operators:\n",
            "\n",
            "a and b = False\n",
            "a or b = True\n",
            "not a = False\n",
            "not b = True\n",
            "\n",
            "Using logical operators with conditions:\n",
            "(x > 0 and y > 0): True\n",
            "(x < 0 or y > 0): True\n",
            "not(x == 10): False\n"
          ]
        }
      ]
    },
    {
      "cell_type": "code",
      "source": [
        "#9 Write a python program to convert user input from string to integer, float, and boolean types?\n",
        "\n",
        "# Take user input as a string\n",
        "user_input = input(\"Enter a value: \")\n",
        "\n",
        "# Convert to integer\n",
        "try:\n",
        "    int_value = int(user_input)\n",
        "    print(\"Integer value:\", int_value)\n",
        "except ValueError:\n",
        "    print(\"Cannot convert to integer.\")\n",
        "\n",
        "# Convert to float\n",
        "try:\n",
        "    float_value = float(user_input)\n",
        "    print(\"Float value:\", float_value)\n",
        "except ValueError:\n",
        "    print(\"Cannot convert to float.\")\n",
        "\n",
        "# Convert to boolean\n",
        "# Anything non-empty and not '0' (as string) is treated as True\n",
        "bool_value = bool(user_input) and user_input != \"0\"\n",
        "print(\"Boolean value:\", bool_value)"
      ],
      "metadata": {
        "colab": {
          "base_uri": "https://localhost:8080/"
        },
        "id": "4T_SGWJrqtID",
        "outputId": "2d623ce3-d691-47a1-afb3-3dd41845f1b4"
      },
      "execution_count": 28,
      "outputs": [
        {
          "output_type": "stream",
          "name": "stdout",
          "text": [
            "Enter a value: 42\n",
            "Integer value: 42\n",
            "Float value: 42.0\n",
            "Boolean value: True\n"
          ]
        }
      ]
    },
    {
      "cell_type": "code",
      "source": [
        "#10 Write a code to demonstrate type casting with list elements.\n",
        "\n",
        "# Original list with string elements\n",
        "str_list = ['1', '2', '3', '4.5', 'True']\n",
        "\n",
        "print(\"Original list (all strings):\", str_list)\n",
        "\n",
        "# Convert string numbers to integers (only if they are whole numbers)\n",
        "int_list = []\n",
        "for item in str_list:\n",
        "    try:\n",
        "        int_list.append(int(item))\n",
        "    except ValueError:\n",
        "        int_list.append(None)  # Use None for values that can't be converted\n",
        "print(\"After converting to integers:\", int_list)\n",
        "\n",
        "# Convert string numbers to floats\n",
        "float_list = []\n",
        "for item in str_list:\n",
        "    try:\n",
        "        float_list.append(float(item))\n",
        "    except ValueError:\n",
        "        float_list.append(None)\n",
        "print(\"After converting to floats:\", float_list)\n",
        "\n",
        "# Convert string values to booleans\n",
        "bool_list = [item.lower() == 'true' for item in str_list]\n",
        "print(\"After converting to booleans:\", bool_list)"
      ],
      "metadata": {
        "colab": {
          "base_uri": "https://localhost:8080/"
        },
        "id": "V3XMosn2rJn6",
        "outputId": "2cecf414-9ceb-4dbe-f494-60a02f8e903a"
      },
      "execution_count": 29,
      "outputs": [
        {
          "output_type": "stream",
          "name": "stdout",
          "text": [
            "Original list (all strings): ['1', '2', '3', '4.5', 'True']\n",
            "After converting to integers: [1, 2, 3, None, None]\n",
            "After converting to floats: [1.0, 2.0, 3.0, 4.5, None]\n",
            "After converting to booleans: [False, False, False, False, True]\n"
          ]
        }
      ]
    },
    {
      "cell_type": "code",
      "source": [
        "#11. Write a program that checks if a number is positive, negative, or zero.\n",
        "\n",
        "# Take input from the user\n",
        "num = float(input(\"Enter a number: \"))\n",
        "\n",
        "# Check if the number is positive, negative, or zero\n",
        "if num > 0:\n",
        "    print(\"The number is positive.\")\n",
        "elif num < 0:\n",
        "    print(\"The number is negative.\")\n",
        "else:\n",
        "    print(\"The number is zero.\")"
      ],
      "metadata": {
        "colab": {
          "base_uri": "https://localhost:8080/"
        },
        "id": "VVwsUdXLrfr7",
        "outputId": "bb3b07f4-6ec4-4ce3-e561-dabfd400d80d"
      },
      "execution_count": 30,
      "outputs": [
        {
          "output_type": "stream",
          "name": "stdout",
          "text": [
            "Enter a number: 7\n",
            "The number is positive.\n"
          ]
        }
      ]
    },
    {
      "cell_type": "code",
      "source": [
        "#12 Write a for loop to print numbers from 1 to 10.\n",
        "\n",
        "#print numbers from 1 to 10 using a for loop\n",
        "for i in range(1, 11):\n",
        "    print(i)"
      ],
      "metadata": {
        "colab": {
          "base_uri": "https://localhost:8080/"
        },
        "id": "g3VSa4F2r5Hv",
        "outputId": "6023b86d-9b63-4953-b973-501401c50d5e"
      },
      "execution_count": 35,
      "outputs": [
        {
          "output_type": "stream",
          "name": "stdout",
          "text": [
            "1\n",
            "2\n",
            "3\n",
            "4\n",
            "5\n",
            "6\n",
            "7\n",
            "8\n",
            "9\n",
            "10\n"
          ]
        }
      ]
    },
    {
      "cell_type": "code",
      "source": [
        "#13 Write a python program some of all even numbers between 1 and 50\n",
        "\n",
        "# Initialize sum\n",
        "even_sum = 0\n",
        "\n",
        "# Loop through numbers from 1 to 50\n",
        "for num in range(1, 51):\n",
        "    if num % 2 == 0:  # Check if the number is even\n",
        "        even_sum += num\n",
        "\n",
        "# Print the result\n",
        "print(\"Sum of all even numbers between 1 and 50 is:\", even_sum)"
      ],
      "metadata": {
        "colab": {
          "base_uri": "https://localhost:8080/"
        },
        "id": "8ML7bl0_s7sd",
        "outputId": "9d8be62e-b936-48ea-a74b-31740678a666"
      },
      "execution_count": 36,
      "outputs": [
        {
          "output_type": "stream",
          "name": "stdout",
          "text": [
            "Sum of all even numbers between 1 and 50 is: 650\n"
          ]
        }
      ]
    },
    {
      "cell_type": "code",
      "source": [
        "#14 Write a program to reverse a string using a while loop.\n",
        "\n",
        "# Take input from the user\n",
        "text = input(\"Enter a string: \")\n",
        "\n",
        "# Initialize an empty string for the result\n",
        "reversed_text = \"\"\n",
        "\n",
        "# Set index to the last character\n",
        "index = len(text) - 1\n",
        "\n",
        "# Loop backwards through the string\n",
        "while index >= 0:\n",
        "    reversed_text += text[index]\n",
        "    index -= 1\n",
        "\n",
        "# Print the reversed string\n",
        "print(\"Reversed string:\", reversed_text)"
      ],
      "metadata": {
        "colab": {
          "base_uri": "https://localhost:8080/"
        },
        "id": "WJ_LkFp3tQGK",
        "outputId": "7e157660-1273-469b-e7e7-9b1b4d7e063a"
      },
      "execution_count": 37,
      "outputs": [
        {
          "output_type": "stream",
          "name": "stdout",
          "text": [
            "Enter a string: python\n",
            "Reversed string: nohtyp\n"
          ]
        }
      ]
    },
    {
      "cell_type": "code",
      "source": [
        "#15 Write a python program to calculate the factorial of a number provided by the user using a while loop?\n",
        "\n",
        "# Take input from the user\n",
        "num = int(input(\"Enter a non-negative integer: \"))\n",
        "\n",
        "# Check if the number is negative\n",
        "if num < 0:\n",
        "    print(\"Factorial is not defined for negative numbers.\")\n",
        "else:\n",
        "    factorial = 1\n",
        "    i = 1\n",
        "    while i <= num:\n",
        "        factorial *= i\n",
        "        i += 1\n",
        "    print(f\"Factorial of {num} is {factorial}\")\n"
      ],
      "metadata": {
        "colab": {
          "base_uri": "https://localhost:8080/"
        },
        "id": "z0_TC-UatuXo",
        "outputId": "2bb8c8aa-d1f6-4caa-a821-b97ca37908f8"
      },
      "execution_count": 39,
      "outputs": [
        {
          "output_type": "stream",
          "name": "stdout",
          "text": [
            "Enter a non-negative integer: 5\n",
            "Factorial of 5 is 120\n"
          ]
        }
      ]
    }
  ]
}